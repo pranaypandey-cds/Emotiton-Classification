{
  "nbformat": 4,
  "nbformat_minor": 0,
  "metadata": {
    "colab": {
      "name": "MLSP_Assign1_4.ipynb",
      "provenance": [],
      "collapsed_sections": [],
      "authorship_tag": "ABX9TyPAFDt+KAOZjedkA1MqAtbs",
      "include_colab_link": true
    },
    "kernelspec": {
      "name": "python3",
      "display_name": "Python 3"
    },
    "language_info": {
      "name": "python"
    }
  },
  "cells": [
    {
      "cell_type": "markdown",
      "metadata": {
        "id": "view-in-github",
        "colab_type": "text"
      },
      "source": [
        "<a href=\"https://colab.research.google.com/github/pranaypandey-cds/Emotiton-Classification/blob/main/MLSP_Assign1_4.ipynb\" target=\"_parent\"><img src=\"https://colab.research.google.com/assets/colab-badge.svg\" alt=\"Open In Colab\"/></a>"
      ]
    },
    {
      "cell_type": "code",
      "execution_count": null,
      "metadata": {
        "id": "lzoARabyY3X8"
      },
      "outputs": [],
      "source": [
        "import numpy as np\n",
        "import matplotlib.pyplot as plt\n",
        "import os\n",
        "import math"
      ]
    },
    {
      "cell_type": "code",
      "source": [
        "# creating a new directory MLSP\n",
        "os.chdir(\"/\")\n",
        "os.mkdir(\"MLSP\")    # creating a new directory MLSP\n",
        "os.chdir(\"/MLSP\")   # changing to MLSP directory  \n",
        "os.mkdir(\"Train\")   # creating a  directory Train in MLSP\n",
        "os.mkdir(\"Test\")    # creating a  directory Test in MLSP"
      ],
      "metadata": {
        "id": "RjqQ_kqWaYPB"
      },
      "execution_count": null,
      "outputs": []
    },
    {
      "cell_type": "code",
      "source": [
        "# PCA function\n",
        "# dataset is such that rows = # of images,column = # of total pixel/dimension\n",
        "def PCA(dataset,k):                                             # k = no. of dimension after PCA\n",
        "  No_of_img = dataset.shape[0]                                  \n",
        "  mean=np.mean(dataset,0)                                       # mean of all dimensions\n",
        "  dataset=dataset-mean\n",
        "  \n",
        "  # covariance \n",
        "  cov=(dataset.dot(dataset.T))/(No_of_img)  \n",
        "  # calculating the  eigen vector and eigen value                       \n",
        "  eig_val,eig_vec=np.linalg.eig(cov)\n",
        "  eig_pair=[(eig_val[i],eig_vec[:,i]) for i in range(No_of_img)]      # making pair of eigen value and corresponding eigen vector\n",
        "  eig_pair.sort(key=lambda x:-x[0])                                   # sorting of eigen pair in decreasing order\n",
        "  \n",
        "\n",
        "  # Now calculating the actual eigen vectors \n",
        "  act_eig_vec=np.zeros([10201,20])\n",
        "  tt=(dataset.T)\n",
        "  for i in range(No_of_img):\n",
        "    act_eig_vec[:,i] =tt.dot(np.array(eig_pair[i][1]))\n",
        "    # making them unit vector\n",
        "    lamba=np.abs(eig_pair[i][0])**0.5             \n",
        "    ff=np.sqrt(20) *lamba\n",
        "    act_eig_vec[:,i]= act_eig_vec[:,i]/ff\n",
        "  \n",
        "  \n",
        "  # Now calculating the projection of the original in the new dimensions\n",
        "  alpha=dataset.dot(act_eig_vec)                            # alpha contain all projected points \n",
        "  \n",
        "  # Now using the alpha and eigen vector for reconstructing again the original data matrix\n",
        "  pca_res=np.zeros([20,10201])\n",
        "  for i in range(k):\n",
        "    for j in range(20):\n",
        "      last=alpha[j,i]*act_eig_vec[:,i]\n",
        "      pca_res[j,:]=pca_res[j,:]+last                        # pca_res is the matrix after reconstructing\n",
        "\n",
        "  pca=pca_res+mean                                          \n",
        "  return act_eig_vec[:,0:k],alpha[:,0:k],mean                          # returning the eigen vector and the projected points"
      ],
      "metadata": {
        "id": "iMvHoMPMRVZc"
      },
      "execution_count": null,
      "outputs": []
    },
    {
      "cell_type": "code",
      "source": [
        "# LDA function\n",
        "\n",
        "def LDA(dataset,label):   \n",
        "  no_of_dim=dataset.shape[1]                                  # no. of dimension or no.of columns\n",
        "\n",
        "  # cls#index contains index for which label is #              \n",
        "  cls1index = np.where(label == 0)                        \n",
        "  cls2index = np.where(label == 1)\n",
        "  #print(cls1index[0])\n",
        "\n",
        "  # cls#data contain data points for which label is #\n",
        "  cls1data = dataset[cls1index[0]]\n",
        "  cls2data = dataset[cls2index[0]]\n",
        "\n",
        "  N1=cls1data.shape[0]                                      # no. of images in class1\n",
        "  N2=cls2data.shape[0]                                      # no. of images in class2\n",
        "  mean1=np.mean(cls1data,0)                                 # mean of class1 dataset \n",
        "  mean2=np.mean(cls2data,0)                                 # mean of class2 dataset\n",
        "  #calculating Sw\n",
        "  var1=np.zeros([no_of_dim,no_of_dim])\n",
        "  var2=np.zeros([no_of_dim,no_of_dim])\n",
        "\n",
        "  var1= ((cls1data-mean1).T).dot(cls1data-mean1)\n",
        "  var2= ((cls2data-mean2).T).dot(cls2data-mean2)\n",
        "\n",
        "  Sw=var1+var2                                       \n",
        " \n",
        "  # calculating inverse of Sw\n",
        "  Swinv=np.linalg.inv(Sw)\n",
        "\n",
        "  # calculating the Sb matrix\n",
        "  mean1=mean1.reshape((1,no_of_dim))\n",
        "  mean2=mean2.reshape((1,no_of_dim))\n",
        "  Sb=((mean1-mean2).T).dot((mean1-mean2))                                \n",
        "  \n",
        "  # calculating the eigen vector of inverse(Sw)*Sb\n",
        "  eig_val,eig_vec=np.linalg.eig(Swinv.dot(Sb))\n",
        "  eig_pair=[(eig_val[i],eig_vec[:,i]) for i in range(no_of_dim)]\n",
        "  eig_pair.sort(key=lambda x:-x[0])\n",
        "\n",
        "  lda_vector = np.real(eig_pair[0][1])                           # choosing the eigen vector corresponding to non zero eigen value\n",
        "  # calculating the projection points in 1 dimension\n",
        "  alpha=dataset.dot(lda_vector)                           # alpha contain 1 point for all image\n",
        "  # fischer ratio\n",
        "  num = lda_vector.T.dot(Sb.dot(lda_vector)) \n",
        "  den = lda_vector.T.dot(Sw.dot(lda_vector)) \n",
        "  fischer_ratio =  num/den\n",
        "  \n",
        "  return alpha,lda_vector,fischer_ratio"
      ],
      "metadata": {
        "id": "gpHFqprGdqbO"
      },
      "execution_count": null,
      "outputs": []
    },
    {
      "cell_type": "code",
      "source": [
        "def load_train_data():\n",
        "  trin_data=np.zeros([20,10201])                                       # no of images in test data=20\n",
        "  count=0\n",
        "  os.chdir(\"/MLSP/Train\")\n",
        "  for i in os.listdir():\n",
        "    img=plt.imread(i)\n",
        "    trin_data[count,:]=np.array(img).reshape(1,10201)\n",
        "    count=count+1;\n",
        "  return trin_data"
      ],
      "metadata": {
        "id": "2AmklMN5fmNO"
      },
      "execution_count": null,
      "outputs": []
    },
    {
      "cell_type": "code",
      "source": [
        "# In test directory creating a data matrix, data matrix such that rows= no.of images and columns= dimensions\n",
        "def load_test_data():\n",
        "  test_data=np.zeros([10,10201])                                       # no of images in test data=10\n",
        "  count=0\n",
        "  os.chdir(\"/MLSP/Test\")\n",
        "  for i in os.listdir():\n",
        "    img=plt.imread(i)\n",
        "    test_data[count,:]=np.array(img).reshape(1,10201)\n",
        "    count=count+1;\n",
        "  return test_data\n",
        "  "
      ],
      "metadata": {
        "id": "E2Dx5JH-1hxj"
      },
      "execution_count": null,
      "outputs": []
    },
    {
      "cell_type": "code",
      "source": [
        "#label for test data\n",
        "def load_train_label():\n",
        "  trin_label= np.zeros([20,1])\n",
        "  count=0\n",
        "  os.chdir(\"/MLSP/Train\")\n",
        "  for i in os.listdir():  \n",
        "    if \"happy\" in i:\n",
        "      trin_label[count]=1\n",
        "    count=count+1\n",
        "  return trin_label"
      ],
      "metadata": {
        "id": "5Iw83_Tsf6W3"
      },
      "execution_count": null,
      "outputs": []
    },
    {
      "cell_type": "code",
      "source": [
        "#label for test data\n",
        "def load_test_label():\n",
        "  tst_label= np.zeros([10,1])\n",
        "  count=0\n",
        "  os.chdir(\"/MLSP/Test\")\n",
        "  for i in os.listdir():  \n",
        "    if \"happy\" in i:\n",
        "      tst_label[count]=1\n",
        "    count=count+1\n",
        "  return tst_label"
      ],
      "metadata": {
        "id": "Zhj7BXqd7dNL"
      },
      "execution_count": null,
      "outputs": []
    },
    {
      "cell_type": "code",
      "source": [
        "# TRAINING FUNCTION\n",
        "def training(k):\n",
        "  # load training data\n",
        "  train_dataset = load_train_data()  \n",
        "  # load training label     \n",
        "  train_label = load_train_label()\n",
        "  # PCA\n",
        "  lg,all,mean_train = PCA(train_dataset,k) \n",
        "  # LDA\n",
        "  all1,lda,fis = LDA(all,train_label)\n",
        " \n",
        "  # seperating different label lda values\n",
        "  cls1index = np.where(train_label == 0)                        \n",
        "  cls2index = np.where(train_label == 1)\n",
        "\n",
        "  cls1LDA = all1[cls1index[0]]\n",
        "  cls2LDA = all1[cls2index[0]]\n",
        "  # calcualting mean of class with label 0 and 1 (seperately)\n",
        "  mean_cls1LDA = np.mean(cls1LDA)\n",
        "  mean_cls2LDA = np.mean(cls2LDA)\n",
        "\n",
        "  # threshold\n",
        "  threshold = (mean_cls1LDA + mean_cls2LDA)/2\n",
        "  print(\"Threshold value is \",threshold)\n",
        "  if (mean_cls1LDA < threshold):\n",
        "    condition = 1\n",
        "  else:\n",
        "    condition = 2\n",
        "\n",
        "  # plots\n",
        "  plt.figure()\n",
        "  plt.plot(cls1LDA,train_label[cls1index[0]],'*')\n",
        "  plt.plot(cls2LDA, train_label[cls2index[0]],'*')\n",
        "  plt.title(k)\n",
        "  \n",
        "  return mean_train, lg, lda, condition, threshold, fis"
      ],
      "metadata": {
        "id": "_1KPsNuzZpBd"
      },
      "execution_count": null,
      "outputs": []
    },
    {
      "cell_type": "code",
      "source": [
        "# TESTING FUNCTION\n",
        "def testing(mean_train,eig_vec_pca_train,lda_vec,con,threshld):\n",
        "  # loading test_data\n",
        "  test_dataset = load_test_data()\n",
        "  # loading test label\n",
        "  test_label = load_test_label()\n",
        "  # substracting training mean\n",
        "  test_dataset = test_dataset - mean_train \n",
        "  # projecting by eigen vector from PCA\n",
        "  alpha_test = test_dataset.dot(eig_vec_pca_train)\n",
        "  # projecting by LDA vector\n",
        "  final=alpha_test.dot(lda_vec)\n",
        "\n",
        "\n",
        "  predict=np.zeros([10,1])\n",
        "  for i in range(10):\n",
        "    if (con == 2):\n",
        "      if (final[i]<threshld):\n",
        "        predict[i]=1\n",
        "    if (con == 1):\n",
        "      if (final[i]>threshld):\n",
        "        predict[i]=1\n",
        "        \n",
        "  return predict,test_label\n"
      ],
      "metadata": {
        "id": "Z25nbgbHahXE"
      },
      "execution_count": null,
      "outputs": []
    },
    {
      "cell_type": "code",
      "source": [
        "def accuracy(predict,actual):\n",
        "    count = 0\n",
        "    for i in range(len(predict)):\n",
        "        if predict[i] == actual[i]:\n",
        "            count=count+1\n",
        "    ret = count/len(predict)\n",
        "    print(\"Accuracy is \",ret)\n",
        "    return "
      ],
      "metadata": {
        "id": "aaQ_fdCcdnjN"
      },
      "execution_count": null,
      "outputs": []
    },
    {
      "cell_type": "code",
      "source": [
        "# K=10\n",
        "mean_train, lg, lda, condition, threshold, fischer_ratio = training(10)\n",
        "predict, test_label = testing(mean_train, lg, lda, condition, threshold)\n",
        "print(fischer_ratio)\n",
        "accuracy(predict, test_label)"
      ],
      "metadata": {
        "id": "cbNryjm-derO",
        "colab": {
          "base_uri": "https://localhost:8080/",
          "height": 333
        },
        "outputId": "8db764e7-e168-48e4-952d-6df2b6c87a50"
      },
      "execution_count": null,
      "outputs": [
        {
          "output_type": "stream",
          "name": "stdout",
          "text": [
            "Threshold value is  67.59438832644315\n",
            "0.32133051066173157\n",
            "Accuracy is  0.9\n"
          ]
        },
        {
          "output_type": "display_data",
          "data": {
            "image/png": "[encoded data removed]",
            "text/plain": [
              "<Figure size 432x288 with 1 Axes>"
            ]
          },
          "metadata": {
            "needs_background": "light"
          }
        }
      ]
    },
    {
      "cell_type": "code",
      "source": [
        "# K=11\n",
        "mean_train, lg, lda, condition, threshold, fischer_ratio= training(11)\n",
        "predict, test_label = testing(mean_train, lg, lda, condition, threshold)\n",
        "print(fischer_ratio)\n",
        "accuracy(predict, test_label)"
      ],
      "metadata": {
        "colab": {
          "base_uri": "https://localhost:8080/",
          "height": 333
        },
        "id": "O054RbzsLIfB",
        "outputId": "7959096e-d26e-49e4-964b-15ce9c77e423"
      },
      "execution_count": null,
      "outputs": [
        {
          "output_type": "stream",
          "name": "stdout",
          "text": [
            "Threshold value is  67.58854494968926\n",
            "0.32183952284838996\n",
            "Accuracy is  1.0\n"
          ]
        },
        {
          "output_type": "display_data",
          "data": {
            "image/png": "[encoded data removed]",
            "text/plain": [
              "<Figure size 432x288 with 1 Axes>"
            ]
          },
          "metadata": {
            "needs_background": "light"
          }
        }
      ]
    },
    {
      "cell_type": "code",
      "source": [
        "# K=12\n",
        "mean_train, lg, lda, condition, threshold, fischer_ratio = training(12)\n",
        "predict, test_label = testing(mean_train, lg, lda, condition, threshold)\n",
        "print(fischer_ratio)\n",
        "accuracy(predict, test_label)"
      ],
      "metadata": {
        "id": "7wH9cHYgdMIJ",
        "colab": {
          "base_uri": "https://localhost:8080/",
          "height": 333
        },
        "outputId": "516ace80-5a10-4c75-b3df-7080462db4b6"
      },
      "execution_count": null,
      "outputs": [
        {
          "output_type": "stream",
          "name": "stdout",
          "text": [
            "Threshold value is  66.89674572699363\n",
            "0.5725180705272754\n",
            "Accuracy is  0.9\n"
          ]
        },
        {
          "output_type": "display_data",
          "data": {
            "image/png": "[encoded data removed]",
            "text/plain": [
              "<Figure size 432x288 with 1 Axes>"
            ]
          },
          "metadata": {
            "needs_background": "light"
          }
        }
      ]
    },
    {
      "cell_type": "code",
      "source": [
        "# K=13\n",
        "mean_train, lg, lda, condition, threshold, fischer_ratio = training(13)\n",
        "predict, test_label = testing(mean_train, lg, lda, condition, threshold)\n",
        "print(fischer_ratio)\n",
        "accuracy(predict, test_label)"
      ],
      "metadata": {
        "colab": {
          "base_uri": "https://localhost:8080/",
          "height": 333
        },
        "id": "w14hvpIokJBa",
        "outputId": "23f405ca-de71-4b3c-d33e-7c3a7e0a15af"
      },
      "execution_count": null,
      "outputs": [
        {
          "output_type": "stream",
          "name": "stdout",
          "text": [
            "Threshold value is  65.44141590121063\n",
            "1.5786207430139096\n",
            "Accuracy is  0.9\n"
          ]
        },
        {
          "output_type": "display_data",
          "data": {
            "image/png": "[encoded data removed]",
            "text/plain": [
              "<Figure size 432x288 with 1 Axes>"
            ]
          },
          "metadata": {
            "needs_background": "light"
          }
        }
      ]
    },
    {
      "cell_type": "code",
      "source": [
        "# K=14\n",
        "mean_train, lg, lda, condition, threshold, fischer_ratio= training(14)\n",
        "predict, test_label = testing(mean_train, lg, lda, condition, threshold)\n",
        "print(fischer_ratio)\n",
        "accuracy(predict, test_label)"
      ],
      "metadata": {
        "colab": {
          "base_uri": "https://localhost:8080/",
          "height": 333
        },
        "outputId": "ac7805f8-e92a-4fc0-8d7f-24238e2f3ff4",
        "id": "Zm4JYX2GkURX"
      },
      "execution_count": null,
      "outputs": [
        {
          "output_type": "stream",
          "name": "stdout",
          "text": [
            "Threshold value is  65.43465380100434\n",
            "1.5899642771708782\n",
            "Accuracy is  0.9\n"
          ]
        },
        {
          "output_type": "display_data",
          "data": {
            "image/png": "[encoded data removed]",
            "text/plain": [
              "<Figure size 432x288 with 1 Axes>"
            ]
          },
          "metadata": {
            "needs_background": "light"
          }
        }
      ]
    },
    {
      "cell_type": "code",
      "source": [
        "# K=15\n",
        "mean_train, lg, lda, condition, threshold, fischer_ratio= training(15)\n",
        "predict, test_label = testing(mean_train, lg, lda, condition, threshold)\n",
        "print(fischer_ratio)\n",
        "accuracy(predict, test_label)"
      ],
      "metadata": {
        "colab": {
          "base_uri": "https://localhost:8080/",
          "height": 333
        },
        "outputId": "64b99df0-3a77-4134-e35a-c78c9339281d",
        "id": "y3RqDrbVkequ"
      },
      "execution_count": null,
      "outputs": [
        {
          "output_type": "stream",
          "name": "stdout",
          "text": [
            "Threshold value is  65.43447992522545\n",
            "1.590080154918751\n",
            "Accuracy is  0.9\n"
          ]
        },
        {
          "output_type": "display_data",
          "data": {
            "image/png": "[encoded data removed]",
            "text/plain": [
              "<Figure size 432x288 with 1 Axes>"
            ]
          },
          "metadata": {
            "needs_background": "light"
          }
        }
      ]
    },
    {
      "cell_type": "code",
      "source": [
        "# K=16\n",
        "mean_train, lg, lda, condition, threshold, fischer_ratio = training(16)\n",
        "predict, test_label = testing(mean_train, lg, lda, condition, threshold)\n",
        "print(fischer_ratio)\n",
        "accuracy(predict, test_label)"
      ],
      "metadata": {
        "colab": {
          "base_uri": "https://localhost:8080/",
          "height": 333
        },
        "outputId": "1d07515e-a75e-4e71-9fb4-4b7063960e0e",
        "id": "R1X5_E65kjbQ"
      },
      "execution_count": null,
      "outputs": [
        {
          "output_type": "stream",
          "name": "stdout",
          "text": [
            "Threshold value is  64.85230822021475\n",
            "2.0044757846726626\n",
            "Accuracy is  0.9\n"
          ]
        },
        {
          "output_type": "display_data",
          "data": {
            "image/png": "[encoded data removed]",
            "text/plain": [
              "<Figure size 432x288 with 1 Axes>"
            ]
          },
          "metadata": {
            "needs_background": "light"
          }
        }
      ]
    },
    {
      "cell_type": "code",
      "source": [
        "# K=17\n",
        "mean_train, lg, lda, condition, threshold, fischer_ratio= training(17)\n",
        "predict, test_label = testing(mean_train, lg, lda, condition, threshold)\n",
        "print(fischer_ratio)\n",
        "accuracy(predict, test_label)"
      ],
      "metadata": {
        "colab": {
          "base_uri": "https://localhost:8080/",
          "height": 333
        },
        "outputId": "9151fd8d-630d-42e3-de3d-69370c96bfd3",
        "id": "JZRiFHdNksVY"
      },
      "execution_count": null,
      "outputs": [
        {
          "output_type": "stream",
          "name": "stdout",
          "text": [
            "Threshold value is  63.93338984427737\n",
            "2.799681879263567\n",
            "Accuracy is  0.9\n"
          ]
        },
        {
          "output_type": "display_data",
          "data": {
            "image/png": "[encoded data removed]",
            "text/plain": [
              "<Figure size 432x288 with 1 Axes>"
            ]
          },
          "metadata": {
            "needs_background": "light"
          }
        }
      ]
    },
    {
      "cell_type": "markdown",
      "source": [
        ""
      ],
      "metadata": {
        "id": "H9tQDVSCk3Cy"
      }
    },
    {
      "cell_type": "code",
      "source": [
        "# K=18\n",
        "mean_train, lg, lda, condition, threshold,fischer_ratio= training(18)\n",
        "predict, test_label = testing(mean_train, lg, lda, condition, threshold)\n",
        "print(fischer_ratio)\n",
        "accuracy(predict, test_label)"
      ],
      "metadata": {
        "colab": {
          "base_uri": "https://localhost:8080/",
          "height": 333
        },
        "outputId": "1843171e-a544-410b-c044-319c5a99c413",
        "id": "tbruEPbDk3Nc"
      },
      "execution_count": null,
      "outputs": [
        {
          "output_type": "stream",
          "name": "stdout",
          "text": [
            "Threshold value is  62.72304510532484\n",
            "4.645457055803568\n",
            "Accuracy is  0.9\n"
          ]
        },
        {
          "output_type": "display_data",
          "data": {
            "image/png": "[encoded data removed]",
            "text/plain": [
              "<Figure size 432x288 with 1 Axes>"
            ]
          },
          "metadata": {
            "needs_background": "light"
          }
        }
      ]
    },
    {
      "cell_type": "code",
      "source": [
        "# K=19\n",
        "mean_train, lg, lda, condition, threshold,fischer_ratio = training(19)\n",
        "predict, test_label = testing(mean_train, lg, lda, condition, threshold)\n",
        "print(fischer_ratio)\n",
        "accuracy(predict, test_label)"
      ],
      "metadata": {
        "colab": {
          "base_uri": "https://localhost:8080/",
          "height": 333
        },
        "outputId": "374979ba-ef89-4562-c662-2c19963cad3c",
        "id": "mHLifx6hlBEB"
      },
      "execution_count": null,
      "outputs": [
        {
          "output_type": "stream",
          "name": "stdout",
          "text": [
            "Threshold value is  59.668327784550684\n",
            "8842247762685728.0\n",
            "Accuracy is  0.9\n"
          ]
        },
        {
          "output_type": "display_data",
          "data": {
            "image/png": "[encoded data removed]",
            "text/plain": [
              "<Figure size 432x288 with 1 Axes>"
            ]
          },
          "metadata": {
            "needs_background": "light"
          }
        }
      ]
    },
    {
      "cell_type": "code",
      "source": [
        "# K=20\n",
        "mean_train, lg, lda, condition, threshold, fischer_ratio= training(20)\n",
        "predict, test_label = testing(mean_train, lg, lda, condition, threshold)\n",
        "print(fischer_ratio)\n",
        "accuracy(predict, test_label)"
      ],
      "metadata": {
        "colab": {
          "base_uri": "https://localhost:8080/",
          "height": 333
        },
        "outputId": "ca6e590f-132a-4a72-d1b3-09785b3dc839",
        "id": "EkL-o7mOlF5s"
      },
      "execution_count": null,
      "outputs": [
        {
          "output_type": "stream",
          "name": "stdout",
          "text": [
            "Threshold value is  7.638457646650987e-05\n",
            "5010224352507465.0\n",
            "Accuracy is  0.9\n"
          ]
        },
        {
          "output_type": "display_data",
          "data": {
            "image/png": "[encoded data removed]",
            "text/plain": [
              "<Figure size 432x288 with 1 Axes>"
            ]
          },
          "metadata": {
            "needs_background": "light"
          }
        }
      ]
    },
    {
      "cell_type": "code",
      "source": [
        ""
      ],
      "metadata": {
        "id": "-bY2Sj9WSpsx"
      },
      "execution_count": null,
      "outputs": []
    }
  ]
}